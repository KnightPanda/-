{
 "cells": [
  {
   "cell_type": "code",
   "execution_count": 16,
   "metadata": {},
   "outputs": [
    {
     "name": "stdout",
     "output_type": "stream",
     "text": [
      "[[[255 249 238]\n",
      "  [255 249 238]\n",
      "  [255 249 238]\n",
      "  ...\n",
      "  [237 229 216]\n",
      "  [234 226 213]\n",
      "  [233 224 210]]\n",
      "\n",
      " [[255 249 238]\n",
      "  [255 249 238]\n",
      "  [255 249 238]\n",
      "  ...\n",
      "  [238 230 217]\n",
      "  [236 228 215]\n",
      "  [236 227 213]]\n",
      "\n",
      " [[255 249 238]\n",
      "  [255 249 238]\n",
      "  [255 249 238]\n",
      "  ...\n",
      "  [240 233 218]\n",
      "  [239 232 217]\n",
      "  [238 231 216]]\n",
      "\n",
      " ...\n",
      "\n",
      " [[ 94 136 165]\n",
      "  [ 94 136 165]\n",
      "  [ 93 134 167]\n",
      "  ...\n",
      "  [228 172 245]\n",
      "  [226 170 243]\n",
      "  [224 167 242]]\n",
      "\n",
      " [[ 94 136 165]\n",
      "  [ 93 135 164]\n",
      "  [ 93 134 167]\n",
      "  ...\n",
      "  [228 172 245]\n",
      "  [226 170 243]\n",
      "  [224 167 242]]\n",
      "\n",
      " [[ 94 136 165]\n",
      "  [ 93 135 164]\n",
      "  [ 93 134 167]\n",
      "  ...\n",
      "  [228 172 245]\n",
      "  [226 170 243]\n",
      "  [224 167 242]]]\n"
     ]
    }
   ],
   "source": [
    "\"\"\"\n",
    "图片加载以及大小变换\n",
    "\"\"\"\n",
    "import cv2#oprncv对python的封装接口\n",
    "img=cv2.imread('./data/zw1.jpg')\n",
    "print(img)\n"
   ]
  },
  {
   "cell_type": "code",
   "execution_count": 8,
   "metadata": {},
   "outputs": [
    {
     "name": "stdout",
     "output_type": "stream",
     "text": [
      "(244, 207, 3)\n"
     ]
    }
   ],
   "source": [
    "print(img.shape)#高，宽，像素三个颜色 #蓝色，绿色，红色"
   ]
  },
  {
   "cell_type": "code",
   "execution_count": 13,
   "metadata": {},
   "outputs": [],
   "source": [
    "shape=img.shape\n",
    "#重置图片的大小，修改图片\n",
    "resize_img=cv2.resize(img,dsize=(500,int((500/shape[1])*shape[0])))#宽，高\n",
    "cv2.imwrite('new.jpg',resize_img)\n",
    "cv2.imshow('new',resize_img)\n",
    "cv2.waitKey(0)#无限等待\n",
    "cv2.destroyAllWindows()#销毁窗口"
   ]
  }
 ],
 "metadata": {
  "kernelspec": {
   "display_name": "Python [conda env:root] *",
   "language": "python",
   "name": "conda-root-py"
  },
  "language_info": {
   "codemirror_mode": {
    "name": "ipython",
    "version": 3
   },
   "file_extension": ".py",
   "mimetype": "text/x-python",
   "name": "python",
   "nbconvert_exporter": "python",
   "pygments_lexer": "ipython3",
   "version": "3.7.4"
  }
 },
 "nbformat": 4,
 "nbformat_minor": 4
}
